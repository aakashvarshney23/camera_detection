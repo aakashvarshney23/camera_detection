{
 "cells": [
  {
   "cell_type": "code",
   "execution_count": null,
   "metadata": {},
   "outputs": [],
   "source": [
    "import cv2\n",
    "\n",
    "face_cascade = cv2.CascadeClassifier('opencv-master/data/haarcascades/haarcascade_frontalface_default.xml')\n",
    "\n",
    "# the value 0 states that we are using integrated camera.\n",
    "# If we cannot detect the camera module, might wanna change this parameter\n",
    "captured_image = cv2.VideoCapture(0)\n",
    "result = True\n",
    "\n",
    "while result:\n",
    "\n",
    "    ret, img = captured_image.read()\n",
    "    gray = cv2.cvtColor(img, cv2.COLOR_BGR2GRAY)\n",
    "    faces = face_cascade.detectMultiScale(gray, 1.1, 4)\n",
    "\n",
    "    # Draw the rectangle around each face\n",
    "    for (x, y, w, h) in faces:\n",
    "        eye_color = img[y:y + h, x:x + w]\n",
    "        face_gray = gray[y:y + h, x:x + w]\n",
    "        cv2.rectangle(img, (x, y), (x+w, y+h), (255, 0, 0), 2)\n",
    "\n",
    "    cv2.imshow('img', img)\n",
    "    k = cv2.waitKey(3) & 0xff\n",
    "    if k == 3:\n",
    "        break\n",
    "        \n",
    "    if cv2.imwrite(\"Storage/captd_image.jpg\", img):\n",
    "        result = False\n",
    "\n",
    "\n",
    "captured_image.release()\n",
    "cv2.destroyAllWindows()\n"
   ]
  },
  {
   "cell_type": "code",
   "execution_count": null,
   "metadata": {},
   "outputs": [],
   "source": []
  },
  {
   "cell_type": "code",
   "execution_count": null,
   "metadata": {},
   "outputs": [],
   "source": []
  }
 ],
 "metadata": {
  "kernelspec": {
   "display_name": "Python 3",
   "language": "python",
   "name": "python3"
  },
  "language_info": {
   "codemirror_mode": {
    "name": "ipython",
    "version": 3
   },
   "file_extension": ".py",
   "mimetype": "text/x-python",
   "name": "python",
   "nbconvert_exporter": "python",
   "pygments_lexer": "ipython3",
   "version": "3.7.7"
  }
 },
 "nbformat": 4,
 "nbformat_minor": 4
}
